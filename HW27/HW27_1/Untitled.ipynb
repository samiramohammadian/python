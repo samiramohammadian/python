{
 "cells": [
  {
   "cell_type": "code",
   "execution_count": 194,
   "id": "7ce4ae37",
   "metadata": {},
   "outputs": [],
   "source": [
    "import cv2\n",
    "import matplotlib.pyplot as plt"
   ]
  },
  {
   "cell_type": "code",
   "execution_count": 195,
   "id": "78f5b2df",
   "metadata": {},
   "outputs": [
    {
     "data": {
      "text/plain": [
       "<matplotlib.image.AxesImage at 0x135063fd0>"
      ]
     },
     "execution_count": 195,
     "metadata": {},
     "output_type": "execute_result"
    },
    {
     "data": {
      "image/png": "[encoded data removed]",
      "text/plain": [
       "<Figure size 432x288 with 1 Axes>"
      ]
     },
     "metadata": {
      "needs_background": "light"
     },
     "output_type": "display_data"
    }
   ],
   "source": [
    "img = cv2.imread(\"image.png\" , cv2.IMREAD_GRAYSCALE)\n",
    "imag = cv2.imread(\"image.png\" )\n",
    "plt.imshow(img , cmap= \"gray\")"
   ]
  },
  {
   "cell_type": "code",
   "execution_count": 196,
   "id": "5b931489",
   "metadata": {},
   "outputs": [],
   "source": [
    "rows, cols  = img.shape\n",
    "hlandmarks = []\n",
    "vlandmarks = []\n",
    "\n",
    "for i in range(rows):\n",
    "    key = False\n",
    "    ar  = []\n",
    "    for j in range(cols):\n",
    "        if img[i, j] != 0 :\n",
    "            if  key == False:\n",
    "\n",
    "                key = True\n",
    "                ar.append([i, j])\n",
    "\n",
    "        elif img[i, j]==0 :\n",
    "            if key == True:\n",
    "\n",
    "                key = False\n",
    "                ar.append([i, j])\n",
    "\n",
    "    if len(ar) != 0:\n",
    "        hlandmarks.append(ar[0])\n",
    "        hlandmarks.append(ar[-1])\n",
    "for h in hlandmarks:\n",
    "    cv2.circle(imag, (h[1], h[0]), 5, (0,127,0), -1)\n",
    "\n",
    "for j in range(cols):\n",
    "    key = False\n",
    "    ar = []\n",
    "    for i in range(rows):\n",
    "        if img[i, j] != 0 :\n",
    "            if  key==False:\n",
    "\n",
    "                key = True\n",
    "                ar.append([i, j])\n",
    "\n",
    "        elif img[i, j]==0 :\n",
    "            if key==True:\n",
    "\n",
    "                key = False\n",
    "                ar.append([i, j])\n",
    "                \n",
    "    if len(ar) != 0:\n",
    "        vlandmarks.append(ar[0])\n",
    "        vlandmarks.append(ar[-1])\n",
    "for v in vlandmarks:\n",
    "    cv2.circle(imag, (v[1], v[0]), 5, (0,127,0), -1)"
   ]
  },
  {
   "cell_type": "code",
   "execution_count": 197,
   "id": "f9ef2ee8",
   "metadata": {},
   "outputs": [
    {
     "data": {
      "text/plain": [
       "True"
      ]
     },
     "execution_count": 197,
     "metadata": {},
     "output_type": "execute_result"
    },
    {
     "data": {
      "image/png": "[encoded data removed]",
      "text/plain": [
       "<Figure size 432x288 with 1 Axes>"
      ]
     },
     "metadata": {
      "needs_background": "light"
     },
     "output_type": "display_data"
    }
   ],
   "source": [
    "plt.imshow(imag)\n",
    "cv2.imwrite(\"result.jpg\" , imag)"
   ]
  }
 ],
 "metadata": {
  "interpreter": {
   "hash": "b0fa6594d8f4cbf19f97940f81e996739fb7646882a419484c72d19e05852a7e"
  },
  "kernelspec": {
   "display_name": "Python 3 (ipykernel)",
   "language": "python",
   "name": "python3"
  },
  "language_info": {
   "codemirror_mode": {
    "name": "ipython",
    "version": 3
   },
   "file_extension": ".py",
   "mimetype": "text/x-python",
   "name": "python",
   "nbconvert_exporter": "python",
   "pygments_lexer": "ipython3",
   "version": "3.9.9"
  }
 },
 "nbformat": 4,
 "nbformat_minor": 5
}
