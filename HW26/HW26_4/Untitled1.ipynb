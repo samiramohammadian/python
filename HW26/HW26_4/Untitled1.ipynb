{
 "cells": [
  {
   "cell_type": "code",
   "execution_count": 1,
   "id": "618fa208",
   "metadata": {},
   "outputs": [],
   "source": [
    "import cv2\n",
    "import numpy as np\n",
    "import matplotlib.pyplot as plt"
   ]
  },
  {
   "cell_type": "code",
   "execution_count": 2,
   "id": "6abbc28c",
   "metadata": {},
   "outputs": [
    {
     "name": "stdout",
     "output_type": "stream",
     "text": [
      "(1500, 1400)\n"
     ]
    }
   ],
   "source": [
    "img = cv2.imread('sudoku.tif' , cv2.IMREAD_GRAYSCALE)\n",
    "optimized_img = cv2.equalizeHist(img)\n",
    "(thresh , optimized_img)= cv2.threshold(optimized_img , 128 ,255 , cv2.THRESH_BINARY | cv2.THRESH_OTSU)\n",
    "print(optimized_img.shape)\n",
    "\n",
    "x = [] \n",
    "y = [] \n",
    "\n",
    "for i in range(optimized_img.shape[0]):\n",
    "    for j in range(optimized_img.shape[1]):\n",
    "        if optimized_img[i][j] == 0:\n",
    "            x.append(j)\n",
    "            y.append(i)\n"
   ]
  },
  {
   "cell_type": "code",
   "execution_count": 27,
   "id": "1d4d5990",
   "metadata": {},
   "outputs": [],
   "source": [
    "minx=min(x) \n",
    "maxx=max(x)"
   ]
  },
  {
   "cell_type": "code",
   "execution_count": 28,
   "id": "0984b65c",
   "metadata": {},
   "outputs": [],
   "source": [
    "miny=min(y) \n",
    "maxy=max(y)"
   ]
  },
  {
   "cell_type": "code",
   "execution_count": 29,
   "id": "44eb6516",
   "metadata": {},
   "outputs": [
    {
     "data": {
      "text/plain": [
       "True"
      ]
     },
     "execution_count": 29,
     "metadata": {},
     "output_type": "execute_result"
    }
   ],
   "source": [
    "img2 = optimized_img[miny:maxy , minx:maxx]\n",
    "cv2.imwrite(\"res.jpg\" , img2)"
   ]
  },
  {
   "cell_type": "code",
   "execution_count": 30,
   "id": "2f9c9139",
   "metadata": {},
   "outputs": [],
   "source": [
    "rows, cols = img2.shape"
   ]
  },
  {
   "cell_type": "code",
   "execution_count": 36,
   "id": "50c82f43",
   "metadata": {},
   "outputs": [
    {
     "data": {
      "text/plain": [
       "(1199, 1199)"
      ]
     },
     "execution_count": 36,
     "metadata": {},
     "output_type": "execute_result"
    }
   ],
   "source": [
    "img2.shape"
   ]
  },
  {
   "cell_type": "code",
   "execution_count": 45,
   "id": "6a365234",
   "metadata": {},
   "outputs": [],
   "source": [
    "l = rows//9\n",
    "for i in range(0, rows, l):\n",
    "    for j in range(0, cols, l):\n",
    "        target = img2[int(i)+15:int(i+l)-15, int(j)+15:int(j+l)-15]\n",
    "        if np.average(target)<15:\n",
    "            cv2.imwrite(f'output{i}{j}.jpg', target)"
   ]
  }
 ],
 "metadata": {
  "kernelspec": {
   "display_name": "Python 3 (ipykernel)",
   "language": "python",
   "name": "python3"
  },
  "language_info": {
   "codemirror_mode": {
    "name": "ipython",
    "version": 3
   },
   "file_extension": ".py",
   "mimetype": "text/x-python",
   "name": "python",
   "nbconvert_exporter": "python",
   "pygments_lexer": "ipython3",
   "version": "3.9.9"
  }
 },
 "nbformat": 4,
 "nbformat_minor": 5
}
